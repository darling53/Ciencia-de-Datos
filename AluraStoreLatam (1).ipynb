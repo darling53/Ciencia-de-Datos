{
  "nbformat": 4,
  "nbformat_minor": 0,
  "metadata": {
    "colab": {
      "provenance": []
    },
    "kernelspec": {
      "name": "python3",
      "display_name": "Python 3"
    },
    "language_info": {
      "name": "python"
    }
  },
  "cells": [
    {
      "cell_type": "markdown",
      "source": [
        "### Importación de datos\n",
        "\n"
      ],
      "metadata": {
        "id": "RhEdWd9YUR6H"
      }
    },
    {
      "cell_type": "code",
      "execution_count": 9,
      "metadata": {
        "colab": {
          "base_uri": "https://localhost:8080/",
          "height": 310
        },
        "id": "T3EvaeQ_INIL",
        "outputId": "9bffcdba-e810-42e3-ffa9-6f97a5fd4ac3"
      },
      "outputs": [
        {
          "output_type": "execute_result",
          "data": {
            "text/plain": [
              "            Producto Categoría del Producto    Precio  Costo de envío  \\\n",
              "0  Asistente virtual           Electrónicos  164300.0          6900.0   \n",
              "1    Mesa de comedor                Muebles  192300.0          8400.0   \n",
              "2      Juego de mesa               Juguetes  209600.0         15900.0   \n",
              "3         Microondas      Electrodomésticos  757500.0         41000.0   \n",
              "4   Silla de oficina                Muebles  335200.0         20200.0   \n",
              "\n",
              "  Fecha de Compra         Vendedor Lugar de Compra  Calificación  \\\n",
              "0      16/01/2021      Pedro Gomez          Bogotá             4   \n",
              "1      18/05/2022  Beatriz Morales        Medellín             1   \n",
              "2      15/03/2021   Juan Fernandez       Cartagena             1   \n",
              "3      03/05/2022   Juan Fernandez            Cali             4   \n",
              "4      07/11/2020    Maria Alfonso        Medellín             5   \n",
              "\n",
              "       Método de pago  Cantidad de cuotas       lat       lon  \n",
              "0  Tarjeta de crédito                   8   4.60971 -74.08175  \n",
              "1  Tarjeta de crédito                   4   6.25184 -75.56359  \n",
              "2  Tarjeta de crédito                   1  10.39972 -75.51444  \n",
              "3               Nequi                   1   3.43722 -76.52250  \n",
              "4               Nequi                   1   6.25184 -75.56359  "
            ],
            "text/html": [
              "\n",
              "  <div id=\"df-7e8d959c-c467-4f90-abed-52f2ce2788d2\" class=\"colab-df-container\">\n",
              "    <div>\n",
              "<style scoped>\n",
              "    .dataframe tbody tr th:only-of-type {\n",
              "        vertical-align: middle;\n",
              "    }\n",
              "\n",
              "    .dataframe tbody tr th {\n",
              "        vertical-align: top;\n",
              "    }\n",
              "\n",
              "    .dataframe thead th {\n",
              "        text-align: right;\n",
              "    }\n",
              "</style>\n",
              "<table border=\"1\" class=\"dataframe\">\n",
              "  <thead>\n",
              "    <tr style=\"text-align: right;\">\n",
              "      <th></th>\n",
              "      <th>Producto</th>\n",
              "      <th>Categoría del Producto</th>\n",
              "      <th>Precio</th>\n",
              "      <th>Costo de envío</th>\n",
              "      <th>Fecha de Compra</th>\n",
              "      <th>Vendedor</th>\n",
              "      <th>Lugar de Compra</th>\n",
              "      <th>Calificación</th>\n",
              "      <th>Método de pago</th>\n",
              "      <th>Cantidad de cuotas</th>\n",
              "      <th>lat</th>\n",
              "      <th>lon</th>\n",
              "    </tr>\n",
              "  </thead>\n",
              "  <tbody>\n",
              "    <tr>\n",
              "      <th>0</th>\n",
              "      <td>Asistente virtual</td>\n",
              "      <td>Electrónicos</td>\n",
              "      <td>164300.0</td>\n",
              "      <td>6900.0</td>\n",
              "      <td>16/01/2021</td>\n",
              "      <td>Pedro Gomez</td>\n",
              "      <td>Bogotá</td>\n",
              "      <td>4</td>\n",
              "      <td>Tarjeta de crédito</td>\n",
              "      <td>8</td>\n",
              "      <td>4.60971</td>\n",
              "      <td>-74.08175</td>\n",
              "    </tr>\n",
              "    <tr>\n",
              "      <th>1</th>\n",
              "      <td>Mesa de comedor</td>\n",
              "      <td>Muebles</td>\n",
              "      <td>192300.0</td>\n",
              "      <td>8400.0</td>\n",
              "      <td>18/05/2022</td>\n",
              "      <td>Beatriz Morales</td>\n",
              "      <td>Medellín</td>\n",
              "      <td>1</td>\n",
              "      <td>Tarjeta de crédito</td>\n",
              "      <td>4</td>\n",
              "      <td>6.25184</td>\n",
              "      <td>-75.56359</td>\n",
              "    </tr>\n",
              "    <tr>\n",
              "      <th>2</th>\n",
              "      <td>Juego de mesa</td>\n",
              "      <td>Juguetes</td>\n",
              "      <td>209600.0</td>\n",
              "      <td>15900.0</td>\n",
              "      <td>15/03/2021</td>\n",
              "      <td>Juan Fernandez</td>\n",
              "      <td>Cartagena</td>\n",
              "      <td>1</td>\n",
              "      <td>Tarjeta de crédito</td>\n",
              "      <td>1</td>\n",
              "      <td>10.39972</td>\n",
              "      <td>-75.51444</td>\n",
              "    </tr>\n",
              "    <tr>\n",
              "      <th>3</th>\n",
              "      <td>Microondas</td>\n",
              "      <td>Electrodomésticos</td>\n",
              "      <td>757500.0</td>\n",
              "      <td>41000.0</td>\n",
              "      <td>03/05/2022</td>\n",
              "      <td>Juan Fernandez</td>\n",
              "      <td>Cali</td>\n",
              "      <td>4</td>\n",
              "      <td>Nequi</td>\n",
              "      <td>1</td>\n",
              "      <td>3.43722</td>\n",
              "      <td>-76.52250</td>\n",
              "    </tr>\n",
              "    <tr>\n",
              "      <th>4</th>\n",
              "      <td>Silla de oficina</td>\n",
              "      <td>Muebles</td>\n",
              "      <td>335200.0</td>\n",
              "      <td>20200.0</td>\n",
              "      <td>07/11/2020</td>\n",
              "      <td>Maria Alfonso</td>\n",
              "      <td>Medellín</td>\n",
              "      <td>5</td>\n",
              "      <td>Nequi</td>\n",
              "      <td>1</td>\n",
              "      <td>6.25184</td>\n",
              "      <td>-75.56359</td>\n",
              "    </tr>\n",
              "  </tbody>\n",
              "</table>\n",
              "</div>\n",
              "    <div class=\"colab-df-buttons\">\n",
              "\n",
              "  <div class=\"colab-df-container\">\n",
              "    <button class=\"colab-df-convert\" onclick=\"convertToInteractive('df-7e8d959c-c467-4f90-abed-52f2ce2788d2')\"\n",
              "            title=\"Convert this dataframe to an interactive table.\"\n",
              "            style=\"display:none;\">\n",
              "\n",
              "  <svg xmlns=\"http://www.w3.org/2000/svg\" height=\"24px\" viewBox=\"0 -960 960 960\">\n",
              "    <path d=\"M120-120v-720h720v720H120Zm60-500h600v-160H180v160Zm220 220h160v-160H400v160Zm0 220h160v-160H400v160ZM180-400h160v-160H180v160Zm440 0h160v-160H620v160ZM180-180h160v-160H180v160Zm440 0h160v-160H620v160Z\"/>\n",
              "  </svg>\n",
              "    </button>\n",
              "\n",
              "  <style>\n",
              "    .colab-df-container {\n",
              "      display:flex;\n",
              "      gap: 12px;\n",
              "    }\n",
              "\n",
              "    .colab-df-convert {\n",
              "      background-color: #E8F0FE;\n",
              "      border: none;\n",
              "      border-radius: 50%;\n",
              "      cursor: pointer;\n",
              "      display: none;\n",
              "      fill: #1967D2;\n",
              "      height: 32px;\n",
              "      padding: 0 0 0 0;\n",
              "      width: 32px;\n",
              "    }\n",
              "\n",
              "    .colab-df-convert:hover {\n",
              "      background-color: #E2EBFA;\n",
              "      box-shadow: 0px 1px 2px rgba(60, 64, 67, 0.3), 0px 1px 3px 1px rgba(60, 64, 67, 0.15);\n",
              "      fill: #174EA6;\n",
              "    }\n",
              "\n",
              "    .colab-df-buttons div {\n",
              "      margin-bottom: 4px;\n",
              "    }\n",
              "\n",
              "    [theme=dark] .colab-df-convert {\n",
              "      background-color: #3B4455;\n",
              "      fill: #D2E3FC;\n",
              "    }\n",
              "\n",
              "    [theme=dark] .colab-df-convert:hover {\n",
              "      background-color: #434B5C;\n",
              "      box-shadow: 0px 1px 3px 1px rgba(0, 0, 0, 0.15);\n",
              "      filter: drop-shadow(0px 1px 2px rgba(0, 0, 0, 0.3));\n",
              "      fill: #FFFFFF;\n",
              "    }\n",
              "  </style>\n",
              "\n",
              "    <script>\n",
              "      const buttonEl =\n",
              "        document.querySelector('#df-7e8d959c-c467-4f90-abed-52f2ce2788d2 button.colab-df-convert');\n",
              "      buttonEl.style.display =\n",
              "        google.colab.kernel.accessAllowed ? 'block' : 'none';\n",
              "\n",
              "      async function convertToInteractive(key) {\n",
              "        const element = document.querySelector('#df-7e8d959c-c467-4f90-abed-52f2ce2788d2');\n",
              "        const dataTable =\n",
              "          await google.colab.kernel.invokeFunction('convertToInteractive',\n",
              "                                                    [key], {});\n",
              "        if (!dataTable) return;\n",
              "\n",
              "        const docLinkHtml = 'Like what you see? Visit the ' +\n",
              "          '<a target=\"_blank\" href=https://colab.research.google.com/notebooks/data_table.ipynb>data table notebook</a>'\n",
              "          + ' to learn more about interactive tables.';\n",
              "        element.innerHTML = '';\n",
              "        dataTable['output_type'] = 'display_data';\n",
              "        await google.colab.output.renderOutput(dataTable, element);\n",
              "        const docLink = document.createElement('div');\n",
              "        docLink.innerHTML = docLinkHtml;\n",
              "        element.appendChild(docLink);\n",
              "      }\n",
              "    </script>\n",
              "  </div>\n",
              "\n",
              "\n",
              "<div id=\"df-82ff2a7c-6bf1-4870-9a8b-30b70606dcc0\">\n",
              "  <button class=\"colab-df-quickchart\" onclick=\"quickchart('df-82ff2a7c-6bf1-4870-9a8b-30b70606dcc0')\"\n",
              "            title=\"Suggest charts\"\n",
              "            style=\"display:none;\">\n",
              "\n",
              "<svg xmlns=\"http://www.w3.org/2000/svg\" height=\"24px\"viewBox=\"0 0 24 24\"\n",
              "     width=\"24px\">\n",
              "    <g>\n",
              "        <path d=\"M19 3H5c-1.1 0-2 .9-2 2v14c0 1.1.9 2 2 2h14c1.1 0 2-.9 2-2V5c0-1.1-.9-2-2-2zM9 17H7v-7h2v7zm4 0h-2V7h2v10zm4 0h-2v-4h2v4z\"/>\n",
              "    </g>\n",
              "</svg>\n",
              "  </button>\n",
              "\n",
              "<style>\n",
              "  .colab-df-quickchart {\n",
              "      --bg-color: #E8F0FE;\n",
              "      --fill-color: #1967D2;\n",
              "      --hover-bg-color: #E2EBFA;\n",
              "      --hover-fill-color: #174EA6;\n",
              "      --disabled-fill-color: #AAA;\n",
              "      --disabled-bg-color: #DDD;\n",
              "  }\n",
              "\n",
              "  [theme=dark] .colab-df-quickchart {\n",
              "      --bg-color: #3B4455;\n",
              "      --fill-color: #D2E3FC;\n",
              "      --hover-bg-color: #434B5C;\n",
              "      --hover-fill-color: #FFFFFF;\n",
              "      --disabled-bg-color: #3B4455;\n",
              "      --disabled-fill-color: #666;\n",
              "  }\n",
              "\n",
              "  .colab-df-quickchart {\n",
              "    background-color: var(--bg-color);\n",
              "    border: none;\n",
              "    border-radius: 50%;\n",
              "    cursor: pointer;\n",
              "    display: none;\n",
              "    fill: var(--fill-color);\n",
              "    height: 32px;\n",
              "    padding: 0;\n",
              "    width: 32px;\n",
              "  }\n",
              "\n",
              "  .colab-df-quickchart:hover {\n",
              "    background-color: var(--hover-bg-color);\n",
              "    box-shadow: 0 1px 2px rgba(60, 64, 67, 0.3), 0 1px 3px 1px rgba(60, 64, 67, 0.15);\n",
              "    fill: var(--button-hover-fill-color);\n",
              "  }\n",
              "\n",
              "  .colab-df-quickchart-complete:disabled,\n",
              "  .colab-df-quickchart-complete:disabled:hover {\n",
              "    background-color: var(--disabled-bg-color);\n",
              "    fill: var(--disabled-fill-color);\n",
              "    box-shadow: none;\n",
              "  }\n",
              "\n",
              "  .colab-df-spinner {\n",
              "    border: 2px solid var(--fill-color);\n",
              "    border-color: transparent;\n",
              "    border-bottom-color: var(--fill-color);\n",
              "    animation:\n",
              "      spin 1s steps(1) infinite;\n",
              "  }\n",
              "\n",
              "  @keyframes spin {\n",
              "    0% {\n",
              "      border-color: transparent;\n",
              "      border-bottom-color: var(--fill-color);\n",
              "      border-left-color: var(--fill-color);\n",
              "    }\n",
              "    20% {\n",
              "      border-color: transparent;\n",
              "      border-left-color: var(--fill-color);\n",
              "      border-top-color: var(--fill-color);\n",
              "    }\n",
              "    30% {\n",
              "      border-color: transparent;\n",
              "      border-left-color: var(--fill-color);\n",
              "      border-top-color: var(--fill-color);\n",
              "      border-right-color: var(--fill-color);\n",
              "    }\n",
              "    40% {\n",
              "      border-color: transparent;\n",
              "      border-right-color: var(--fill-color);\n",
              "      border-top-color: var(--fill-color);\n",
              "    }\n",
              "    60% {\n",
              "      border-color: transparent;\n",
              "      border-right-color: var(--fill-color);\n",
              "    }\n",
              "    80% {\n",
              "      border-color: transparent;\n",
              "      border-right-color: var(--fill-color);\n",
              "      border-bottom-color: var(--fill-color);\n",
              "    }\n",
              "    90% {\n",
              "      border-color: transparent;\n",
              "      border-bottom-color: var(--fill-color);\n",
              "    }\n",
              "  }\n",
              "</style>\n",
              "\n",
              "  <script>\n",
              "    async function quickchart(key) {\n",
              "      const quickchartButtonEl =\n",
              "        document.querySelector('#' + key + ' button');\n",
              "      quickchartButtonEl.disabled = true;  // To prevent multiple clicks.\n",
              "      quickchartButtonEl.classList.add('colab-df-spinner');\n",
              "      try {\n",
              "        const charts = await google.colab.kernel.invokeFunction(\n",
              "            'suggestCharts', [key], {});\n",
              "      } catch (error) {\n",
              "        console.error('Error during call to suggestCharts:', error);\n",
              "      }\n",
              "      quickchartButtonEl.classList.remove('colab-df-spinner');\n",
              "      quickchartButtonEl.classList.add('colab-df-quickchart-complete');\n",
              "    }\n",
              "    (() => {\n",
              "      let quickchartButtonEl =\n",
              "        document.querySelector('#df-82ff2a7c-6bf1-4870-9a8b-30b70606dcc0 button');\n",
              "      quickchartButtonEl.style.display =\n",
              "        google.colab.kernel.accessAllowed ? 'block' : 'none';\n",
              "    })();\n",
              "  </script>\n",
              "</div>\n",
              "\n",
              "    </div>\n",
              "  </div>\n"
            ],
            "application/vnd.google.colaboratory.intrinsic+json": {
              "type": "dataframe",
              "variable_name": "tienda",
              "summary": "{\n  \"name\": \"tienda\",\n  \"rows\": 2359,\n  \"fields\": [\n    {\n      \"column\": \"Producto\",\n      \"properties\": {\n        \"dtype\": \"category\",\n        \"num_unique_values\": 51,\n        \"samples\": [\n          \"Guitarra ac\\u00fastica\",\n          \"Bal\\u00f3n de baloncesto\",\n          \"Smartwatch\"\n        ],\n        \"semantic_type\": \"\",\n        \"description\": \"\"\n      }\n    },\n    {\n      \"column\": \"Categor\\u00eda del Producto\",\n      \"properties\": {\n        \"dtype\": \"category\",\n        \"num_unique_values\": 8,\n        \"samples\": [\n          \"Muebles\",\n          \"Deportes y diversi\\u00f3n\",\n          \"Electr\\u00f3nicos\"\n        ],\n        \"semantic_type\": \"\",\n        \"description\": \"\"\n      }\n    },\n    {\n      \"column\": \"Precio\",\n      \"properties\": {\n        \"dtype\": \"number\",\n        \"std\": 614686.7653873172,\n        \"min\": 7600.0,\n        \"max\": 2977000.0,\n        \"num_unique_values\": 1937,\n        \"samples\": [\n          2499400.0,\n          14800.0,\n          80500.0\n        ],\n        \"semantic_type\": \"\",\n        \"description\": \"\"\n      }\n    },\n    {\n      \"column\": \"Costo de env\\u00edo\",\n      \"properties\": {\n        \"dtype\": \"number\",\n        \"std\": 32860.0017825605,\n        \"min\": 0.0,\n        \"max\": 160800.0,\n        \"num_unique_values\": 753,\n        \"samples\": [\n          117800.0,\n          54700.0,\n          45600.0\n        ],\n        \"semantic_type\": \"\",\n        \"description\": \"\"\n      }\n    },\n    {\n      \"column\": \"Fecha de Compra\",\n      \"properties\": {\n        \"dtype\": \"object\",\n        \"num_unique_values\": 1018,\n        \"samples\": [\n          \"15/09/2022\",\n          \"03/06/2020\",\n          \"06/11/2021\"\n        ],\n        \"semantic_type\": \"\",\n        \"description\": \"\"\n      }\n    },\n    {\n      \"column\": \"Vendedor\",\n      \"properties\": {\n        \"dtype\": \"category\",\n        \"num_unique_values\": 14,\n        \"samples\": [\n          \"Juliana Costa\",\n          \"Mariana Herrera\",\n          \"Pedro Gomez\"\n        ],\n        \"semantic_type\": \"\",\n        \"description\": \"\"\n      }\n    },\n    {\n      \"column\": \"Lugar de Compra\",\n      \"properties\": {\n        \"dtype\": \"category\",\n        \"num_unique_values\": 19,\n        \"samples\": [\n          \"Bogot\\u00e1\",\n          \"Pereira\",\n          \"Neiva\"\n        ],\n        \"semantic_type\": \"\",\n        \"description\": \"\"\n      }\n    },\n    {\n      \"column\": \"Calificaci\\u00f3n\",\n      \"properties\": {\n        \"dtype\": \"number\",\n        \"std\": 1,\n        \"min\": 1,\n        \"max\": 5,\n        \"num_unique_values\": 5,\n        \"samples\": [\n          1,\n          2,\n          5\n        ],\n        \"semantic_type\": \"\",\n        \"description\": \"\"\n      }\n    },\n    {\n      \"column\": \"M\\u00e9todo de pago\",\n      \"properties\": {\n        \"dtype\": \"category\",\n        \"num_unique_values\": 4,\n        \"samples\": [\n          \"Nequi\",\n          \"Tarjeta de d\\u00e9bito\",\n          \"Tarjeta de cr\\u00e9dito\"\n        ],\n        \"semantic_type\": \"\",\n        \"description\": \"\"\n      }\n    },\n    {\n      \"column\": \"Cantidad de cuotas\",\n      \"properties\": {\n        \"dtype\": \"number\",\n        \"std\": 2,\n        \"min\": 1,\n        \"max\": 24,\n        \"num_unique_values\": 15,\n        \"samples\": [\n          7,\n          14,\n          8\n        ],\n        \"semantic_type\": \"\",\n        \"description\": \"\"\n      }\n    },\n    {\n      \"column\": \"lat\",\n      \"properties\": {\n        \"dtype\": \"number\",\n        \"std\": 2.2874452492678627,\n        \"min\": -4.21528,\n        \"max\": 11.54444,\n        \"num_unique_values\": 19,\n        \"samples\": [\n          4.60971,\n          4.81333,\n          2.9273\n        ],\n        \"semantic_type\": \"\",\n        \"description\": \"\"\n      }\n    },\n    {\n      \"column\": \"lon\",\n      \"properties\": {\n        \"dtype\": \"number\",\n        \"std\": 1.2178272727088486,\n        \"min\": -77.28111,\n        \"max\": -67.9239,\n        \"num_unique_values\": 19,\n        \"samples\": [\n          -74.08175,\n          -75.69611,\n          -75.28189\n        ],\n        \"semantic_type\": \"\",\n        \"description\": \"\"\n      }\n    }\n  ]\n}"
            }
          },
          "metadata": {},
          "execution_count": 9
        }
      ],
      "source": [
        "import pandas as pd\n",
        "\n",
        "url = \"https://raw.githubusercontent.com/alura-es-cursos/challenge1-data-science-latam/refs/heads/main/base-de-datos-challenge1-latam/tienda_1%20.csv\"\n",
        "url2 = \"https://raw.githubusercontent.com/alura-es-cursos/challenge1-data-science-latam/refs/heads/main/base-de-datos-challenge1-latam/tienda_2.csv\"\n",
        "url3 = \"https://raw.githubusercontent.com/alura-es-cursos/challenge1-data-science-latam/refs/heads/main/base-de-datos-challenge1-latam/tienda_3.csv\"\n",
        "url4 = \"https://raw.githubusercontent.com/alura-es-cursos/challenge1-data-science-latam/refs/heads/main/base-de-datos-challenge1-latam/tienda_4.csv\"\n",
        "\n",
        "tienda = pd.read_csv(url)\n",
        "tienda2 = pd.read_csv(url2)\n",
        "tienda3 = pd.read_csv(url3)\n",
        "tienda4 = pd.read_csv(url4)\n",
        "\n",
        "tienda.head()"
      ]
    },
    {
      "cell_type": "markdown",
      "source": [
        "#1. Análisis de facturación\n",
        "\n"
      ],
      "metadata": {
        "id": "X62IW3KFUIYm"
      }
    },
    {
      "cell_type": "code",
      "source": [
        "# Creamos una nueva columna \"Valor Final\" para cada tienda\n",
        "tienda[\"Valor Final\"] = tienda[\"Precio\"] + tienda[\"Costo de envío\"]\n",
        "tienda2[\"Valor Final\"] = tienda2[\"Precio\"] + tienda2[\"Costo de envío\"]\n",
        "tienda3[\"Valor Final\"] = tienda3[\"Precio\"] + tienda3[\"Costo de envío\"]\n",
        "tienda4[\"Valor Final\"] = tienda4[\"Precio\"] + tienda4[\"Costo de envío\"]\n",
        "\n",
        "# Sumamos la facturación de cada tienda\n",
        "facturacion = {\n",
        "    \"Tienda 1\": tienda[\"Valor Final\"].sum(),\n",
        "    \"Tienda 2\": tienda2[\"Valor Final\"].sum(),\n",
        "    \"Tienda 3\": tienda3[\"Valor Final\"].sum(),\n",
        "    \"Tienda 4\": tienda4[\"Valor Final\"].sum()\n",
        "}\n",
        "\n",
        "# Mostramos los resultados ordenados\n",
        "facturacion_total = pd.Series(facturacion).sort_values(ascending=False)\n",
        "print(\"Facturación total por tienda:\")\n",
        "# Formateamos los números para mostrarlos con comas y sin notación científica\n",
        "for tienda, valor in facturacion_total.items():\n",
        "    print(f\"{tienda}: ${valor:,.2f}\")\n",
        "\n"
      ],
      "metadata": {
        "id": "KDyr8E71V3m-",
        "colab": {
          "base_uri": "https://localhost:8080/"
        },
        "outputId": "7c242e59-205b-4ca5-fce3-6cd7d196a749"
      },
      "execution_count": 2,
      "outputs": [
        {
          "output_type": "stream",
          "name": "stdout",
          "text": [
            "Facturación total por tienda:\n",
            "Tienda 1: $1,212,258,300.00\n",
            "Tienda 2: $1,175,828,600.00\n",
            "Tienda 3: $1,156,536,200.00\n",
            "Tienda 4: $1,093,693,100.00\n"
          ]
        }
      ]
    },
    {
      "cell_type": "markdown",
      "source": [
        "# 2. Ventas por categoría"
      ],
      "metadata": {
        "id": "2V_vcAPzWZmR"
      }
    },
    {
      "cell_type": "code",
      "source": [
        "# Función corregida\n",
        "def ventas_por_categoria(df, nombre_tienda):\n",
        "    print(f\"\\nCategorías más vendidas - {nombre_tienda}\")\n",
        "    print(df[\"Categoría del Producto\"].value_counts().head(3))\n",
        "\n",
        "# Aplicamos la función a cada tienda\n",
        "ventas_por_categoria(tienda, \"Tienda 1\")\n",
        "ventas_por_categoria(tienda2, \"Tienda 2\")\n",
        "ventas_por_categoria(tienda3, \"Tienda 3\")\n",
        "ventas_por_categoria(tienda4, \"Tienda 4\")\n"
      ],
      "metadata": {
        "colab": {
          "base_uri": "https://localhost:8080/"
        },
        "id": "ghCF1vYss-Qk",
        "outputId": "9d358cf5-f111-44f0-824e-d07a7c834b9c"
      },
      "execution_count": 10,
      "outputs": [
        {
          "output_type": "stream",
          "name": "stdout",
          "text": [
            "\n",
            "Categorías más vendidas - Tienda 1\n",
            "Categoría del Producto\n",
            "Muebles         465\n",
            "Electrónicos    448\n",
            "Juguetes        324\n",
            "Name: count, dtype: int64\n",
            "\n",
            "Categorías más vendidas - Tienda 2\n",
            "Categoría del Producto\n",
            "Muebles         442\n",
            "Electrónicos    422\n",
            "Juguetes        313\n",
            "Name: count, dtype: int64\n",
            "\n",
            "Categorías más vendidas - Tienda 3\n",
            "Categoría del Producto\n",
            "Muebles         499\n",
            "Electrónicos    451\n",
            "Juguetes        315\n",
            "Name: count, dtype: int64\n",
            "\n",
            "Categorías más vendidas - Tienda 4\n",
            "Categoría del Producto\n",
            "Muebles         480\n",
            "Electrónicos    451\n",
            "Juguetes        338\n",
            "Name: count, dtype: int64\n"
          ]
        }
      ]
    },
    {
      "cell_type": "markdown",
      "source": [
        "# 3. Calificación promedio de la tienda\n"
      ],
      "metadata": {
        "id": "Rq6tU_xSY3jk"
      }
    },
    {
      "cell_type": "code",
      "source": [
        "# Función para mostrar el promedio de calificación por tienda\n",
        "def promedio_calificacion(df, nombre_tienda):\n",
        "    promedio = df[\"Calificación\"].mean()\n",
        "    print(f\"{nombre_tienda}: {promedio:.2f}\")\n",
        "\n",
        "print(\"\\nPromedio de evaluación por tienda:\")\n",
        "promedio_calificacion(tienda, \"Tienda 1\")\n",
        "promedio_calificacion(tienda2, \"Tienda 2\")\n",
        "promedio_calificacion(tienda3, \"Tienda 3\")\n",
        "promedio_calificacion(tienda4, \"Tienda 4\")\n"
      ],
      "metadata": {
        "id": "5jhB6IrYqTIx",
        "colab": {
          "base_uri": "https://localhost:8080/"
        },
        "outputId": "ecf657a8-430d-466e-e98e-319982556afd"
      },
      "execution_count": 11,
      "outputs": [
        {
          "output_type": "stream",
          "name": "stdout",
          "text": [
            "\n",
            "Promedio de evaluación por tienda:\n",
            "Tienda 1: 3.98\n",
            "Tienda 2: 4.04\n",
            "Tienda 3: 4.05\n",
            "Tienda 4: 4.00\n"
          ]
        }
      ]
    },
    {
      "cell_type": "markdown",
      "source": [
        "# 4. Productos más y menos vendidos"
      ],
      "metadata": {
        "id": "DmNp1KPBZCm-"
      }
    },
    {
      "cell_type": "code",
      "source": [
        "# Función para mostrar el producto más y menos vendido en una tienda\n",
        "def extremos_de_ventas(df, nombre_tienda):\n",
        "    print(f\"\\n{nombre_tienda} - Productos más y menos vendidos:\")\n",
        "    mas_vendido = df[\"Producto\"].value_counts().idxmax()\n",
        "    menos_vendido = df[\"Producto\"].value_counts().idxmin()\n",
        "    print(f\"Más vendido: {mas_vendido}\")\n",
        "    print(f\"Menos vendido: {menos_vendido}\")\n",
        "\n",
        "# Aplicamos la función a cada tienda\n",
        "extremos_de_ventas(tienda, \"Tienda 1\")\n",
        "extremos_de_ventas(tienda2, \"Tienda 2\")\n",
        "extremos_de_ventas(tienda3, \"Tienda 3\")\n",
        "extremos_de_ventas(tienda4, \"Tienda 4\")\n"
      ],
      "metadata": {
        "id": "0Sw3sd4IZIGW",
        "colab": {
          "base_uri": "https://localhost:8080/"
        },
        "outputId": "a92c7204-6da7-43fd-b4c9-9f69941fbd9a"
      },
      "execution_count": 12,
      "outputs": [
        {
          "output_type": "stream",
          "name": "stdout",
          "text": [
            "\n",
            "Tienda 1 - Productos más y menos vendidos:\n",
            "Más vendido: Microondas\n",
            "Menos vendido: Auriculares con micrófono\n",
            "\n",
            "Tienda 2 - Productos más y menos vendidos:\n",
            "Más vendido: Iniciando en programación\n",
            "Menos vendido: Juego de mesa\n",
            "\n",
            "Tienda 3 - Productos más y menos vendidos:\n",
            "Más vendido: Kit de bancas\n",
            "Menos vendido: Bloques de construcción\n",
            "\n",
            "Tienda 4 - Productos más y menos vendidos:\n",
            "Más vendido: Cama box\n",
            "Menos vendido: Guitarra eléctrica\n"
          ]
        }
      ]
    },
    {
      "cell_type": "markdown",
      "source": [
        "# 5. Envío promedio por tienda"
      ],
      "metadata": {
        "id": "Fl0cGi3bZKqU"
      }
    },
    {
      "cell_type": "code",
      "source": [
        "# Función para mostrar el costo promedio de envío por tienda\n",
        "def promedio_envio(df, nombre_tienda):\n",
        "    promedio = df[\"Costo de envío\"].mean()\n",
        "    print(f\"{nombre_tienda}: ${promedio:.2f}\")\n",
        "\n",
        "print(\"\\nCosto promedio de envío por tienda:\")\n",
        "promedio_envio(tienda, \"Tienda 1\")\n",
        "promedio_envio(tienda2, \"Tienda 2\")\n",
        "promedio_envio(tienda3, \"Tienda 3\")\n",
        "promedio_envio(tienda4, \"Tienda 4\")\n"
      ],
      "metadata": {
        "id": "S2JeaCykZNy9",
        "colab": {
          "base_uri": "https://localhost:8080/"
        },
        "outputId": "40824910-0496-4edd-bdff-7d99a0e3effb"
      },
      "execution_count": 13,
      "outputs": [
        {
          "output_type": "stream",
          "name": "stdout",
          "text": [
            "\n",
            "Costo promedio de envío por tienda:\n",
            "Tienda 1: $26018.61\n",
            "Tienda 2: $25216.24\n",
            "Tienda 3: $24805.68\n",
            "Tienda 4: $23459.46\n"
          ]
        }
      ]
    },
    {
      "cell_type": "markdown",
      "source": [
        "**6. VISUALIZACION DE DATOS**"
      ],
      "metadata": {
        "id": "PM3xz-pUwDtn"
      }
    },
    {
      "cell_type": "code",
      "source": [
        "import matplotlib.pyplot as plt\n",
        "\n",
        "# Datos de facturación que ya calculaste\n",
        "facturacion_total.plot(kind='barh', color='skyblue', figsize=(8, 5))\n",
        "plt.xlabel('Facturación total')\n",
        "plt.ylabel('Tiendas')\n",
        "plt.title('Facturación total por tienda')\n",
        "plt.gca().invert_yaxis()  # Opcional: invierte el orden para que la tienda con más ventas aparezca arriba\n",
        "plt.grid(axis='x', linestyle='--', alpha=0.7)\n",
        "plt.tight_layout()\n",
        "plt.show()\n"
      ],
      "metadata": {
        "colab": {
          "base_uri": "https://localhost:8080/",
          "height": 507
        },
        "id": "cnXOCSB3wNFB",
        "outputId": "e9d84696-8dd5-4c48-e975-c7352bfab58b"
      },
      "execution_count": 15,
      "outputs": [
        {
          "output_type": "display_data",
          "data": {
            "text/plain": [
              "<Figure size 800x500 with 1 Axes>"
            ],
            "image/png": "[encoded data removed]"
          },
          "metadata": {}
        }
      ]
    },
    {
      "cell_type": "code",
      "source": [
        "import matplotlib.pyplot as plt\n",
        "\n",
        "# Creamos una figura con 2 filas y 2 columnas\n",
        "fig, axs = plt.subplots(2, 2, figsize=(12, 8))\n",
        "fig.suptitle('Top 3 categorías más vendidas por tienda', fontsize=16)\n",
        "\n",
        "# Diccionario de tiendas\n",
        "tiendas = {\n",
        "    'Tienda 1': tienda,\n",
        "    'Tienda 2': tienda2,\n",
        "    'Tienda 3': tienda3,\n",
        "    'Tienda 4': tienda4\n",
        "}\n",
        "\n",
        "# Lista de ejes planos para recorrer\n",
        "axes = axs.flatten()\n",
        "\n",
        "# Generamos gráfico por tienda\n",
        "for i, (nombre, df) in enumerate(tiendas.items()):\n",
        "    top_categorias = df[\"Categoría del Producto\"].value_counts().head(3)\n",
        "    axes[i].bar(top_categorias.index, top_categorias.values, color='mediumseagreen')\n",
        "    axes[i].set_title(nombre)\n",
        "    axes[i].set_ylabel('Cantidad')\n",
        "    axes[i].set_xlabel('Categoría')\n",
        "    axes[i].grid(axis='y', linestyle='--', alpha=0.6)\n",
        "\n",
        "plt.tight_layout(rect=[0, 0, 1, 0.95])  # Deja espacio para el título principal\n",
        "plt.show()\n"
      ],
      "metadata": {
        "colab": {
          "base_uri": "https://localhost:8080/",
          "height": 805
        },
        "id": "CEh-hrkFwYhA",
        "outputId": "17fc3daf-1558-437d-816d-b668e979aa52"
      },
      "execution_count": 16,
      "outputs": [
        {
          "output_type": "display_data",
          "data": {
            "text/plain": [
              "<Figure size 1200x800 with 4 Axes>"
            ],
            "image/png": "[encoded data removed]"
          },
          "metadata": {}
        }
      ]
    },
    {
      "cell_type": "code",
      "source": [
        "import matplotlib.pyplot as plt\n",
        "import pandas as pd\n",
        "\n",
        "# Creamos un diccionario con los promedios de envío ya calculados\n",
        "promedios_envio = {\n",
        "    \"Tienda 1\": tienda[\"Costo de envío\"].mean(),\n",
        "    \"Tienda 2\": tienda2[\"Costo de envío\"].mean(),\n",
        "    \"Tienda 3\": tienda3[\"Costo de envío\"].mean(),\n",
        "    \"Tienda 4\": tienda4[\"Costo de envío\"].mean()\n",
        "}\n",
        "\n",
        "# Lo convertimos a una serie de pandas y ordenamos\n",
        "promedios_envio_series = pd.Series(promedios_envio).sort_values()\n",
        "\n",
        "# Generamos el gráfico\n",
        "promedios_envio_series.plot(kind='bar', color='salmon', figsize=(8,5))\n",
        "plt.ylabel('Costo promedio de envío')\n",
        "plt.xlabel('Tiendas')\n",
        "plt.title('Costo promedio de envío por tienda')\n",
        "plt.grid(axis='y', linestyle='--', alpha=0.6)\n",
        "plt.tight_layout()\n",
        "plt.show()\n"
      ],
      "metadata": {
        "colab": {
          "base_uri": "https://localhost:8080/",
          "height": 507
        },
        "id": "4Qd3Ygu5w8fC",
        "outputId": "ff3da2cb-b3c0-44f5-ab7d-aca0f0a10089"
      },
      "execution_count": 21,
      "outputs": [
        {
          "output_type": "display_data",
          "data": {
            "text/plain": [
              "<Figure size 800x500 with 1 Axes>"
            ],
            "image/png": "[encoded data removed]"
          },
          "metadata": {}
        }
      ]
    },
    {
      "cell_type": "markdown",
      "source": [
        "7. **CIERRE DEL PROYECTO**"
      ],
      "metadata": {
        "id": "tCKd1_wzxMEk"
      }
    },
    {
      "cell_type": "markdown",
      "source": [
        "# 📄 Informe Final – Análisis de Tiendas Alura Store LATAM\n",
        "\n",
        "Después de analizar los datos de ventas de las cuatro tiendas, se presenta a continuación un resumen de los hallazgos más importantes que permitirán al Sr. Juan tomar una decisión estratégica sobre cuál tienda debería vender.\n",
        "\n",
        "---\n",
        "\n",
        "## 💰 Ingresos Totales por Tienda\n",
        "\n",
        "- Tienda 1: $1,212,258,300.00  \n",
        "- Tienda 2: $1,175,828,600.00  \n",
        "- Tienda 3: $1,156,536,200.00  \n",
        "- **Tienda 4: $1,093,693,100.00** (la más baja)\n",
        "\n",
        "La **Tienda 4** genera la menor facturación total, siendo un indicador importante para evaluar su rendimiento.\n",
        "\n",
        "---\n",
        "\n",
        "## 📦 Categorías de Productos Más Vendidas\n",
        "\n",
        "En todas las tiendas, las categorías más vendidas son:\n",
        "\n",
        "1. **Muebles**\n",
        "2. **Electrónicos**\n",
        "3. **Juguetes**\n",
        "\n",
        "Esto muestra un patrón de consumo común, aunque los volúmenes de venta varían por tienda.\n",
        "\n",
        "---\n",
        "\n",
        "## ⭐ Calificaciones Promedio por Tienda\n",
        "\n",
        "- Tienda 1: 3.98  \n",
        "- Tienda 2: 4.04  \n",
        "- Tienda 3: 4.05  \n",
        "- Tienda 4: 4.00\n",
        "\n",
        "Todas las tiendas tienen evaluaciones bastante buenas. La Tienda 3 tiene el promedio más alto, y la Tienda 1 el más bajo.\n",
        "\n",
        "---\n",
        "\n",
        "## 🧸 Productos Más y Menos Vendidos\n",
        "\n",
        "Cada tienda tiene productos con alta y baja rotación. Esto podría explorarse más para optimizar el inventario, pero en este análisis general no se identifican diferencias críticas que afecten la decisión.\n",
        "\n",
        "---\n",
        "\n",
        "## 🚚 Costo Promedio de Envío\n",
        "\n",
        "- Tienda 1: $26,018.61  \n",
        "- Tienda 2: $25,216.24  \n",
        "- Tienda 3: $24,805.68  \n",
        "- **Tienda 4: $23,459.46** (el más bajo)\n",
        "\n",
        "Aunque la Tienda 4 tiene el **menor costo de envío**, esto no compensa su bajo nivel de facturación.\n",
        "\n",
        "---\n",
        "\n",
        "## ✅ Conclusión\n",
        "\n",
        "Se recomienda vender la **Tienda 4**, ya que:\n",
        "\n",
        "- Es la tienda con **menor facturación total**.\n",
        "- Aunque tiene costos de envío bajos y calificaciones aceptables, **no logra generar ingresos competitivos** con respecto a las demás.\n",
        "- Vender esta tienda permitirá reinvertir los recursos en una alternativa con mayor potencial de rendimiento.\n",
        "\n",
        "---\n",
        "\n",
        "_Informe generado como parte del desafío de análisis de datos – Alura LATAM._\n"
      ],
      "metadata": {
        "id": "bLppM6tvxUjK"
      }
    }
  ]
}